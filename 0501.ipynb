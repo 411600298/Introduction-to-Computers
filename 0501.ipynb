{
  "nbformat": 4,
  "nbformat_minor": 0,
  "metadata": {
    "colab": {
      "provenance": [],
      "authorship_tag": "ABX9TyM30q+tJWy7IwEXj2acZXTT",
      "include_colab_link": true
    },
    "kernelspec": {
      "name": "python3",
      "display_name": "Python 3"
    },
    "language_info": {
      "name": "python"
    }
  },
  "cells": [
    {
      "cell_type": "markdown",
      "metadata": {
        "id": "view-in-github",
        "colab_type": "text"
      },
      "source": [
        "<a href=\"https://colab.research.google.com/github/411600298/Introduction-to-Computers/blob/main/0501.ipynb\" target=\"_parent\"><img src=\"https://colab.research.google.com/assets/colab-badge.svg\" alt=\"Open In Colab\"/></a>"
      ]
    },
    {
      "cell_type": "code",
      "execution_count": 3,
      "metadata": {
        "colab": {
          "base_uri": "https://localhost:8080/"
        },
        "id": "6exlgYrLKZdp",
        "outputId": "04ad4e3f-5b6c-4539-c9ec-aa4acdbeb168"
      },
      "outputs": [
        {
          "output_type": "stream",
          "name": "stdout",
          "text": [
            "Hello World\n"
          ]
        }
      ],
      "source": [
        "print(\"Hello World\")"
      ]
    },
    {
      "cell_type": "code",
      "source": [
        "F=float(input(\"華氏溫度\"))\n",
        "攝氏溫度=(F-32)*5/9\n",
        "print('%.1f'%攝氏溫度)"
      ],
      "metadata": {
        "colab": {
          "base_uri": "https://localhost:8080/"
        },
        "id": "9CnFRsWNOL0o",
        "outputId": "d9369b37-b963-46f7-d24c-71e469aff60e"
      },
      "execution_count": 19,
      "outputs": [
        {
          "output_type": "stream",
          "name": "stdout",
          "text": [
            "華氏溫度100\n",
            "37.8\n"
          ]
        }
      ]
    },
    {
      "cell_type": "code",
      "source": [
        "整數=int(input(\"請輸入一個整數\"))\n",
        "a=整數+1\n",
        "tmp=0\n",
        "for i in range(1,a):\n",
        "  tmp +=i\n",
        "print('%d' % tmp)  "
      ],
      "metadata": {
        "colab": {
          "base_uri": "https://localhost:8080/"
        },
        "id": "UdX8FwCySbLg",
        "outputId": "1b773d8b-caf6-4d9c-ee8b-291fc59d0879"
      },
      "execution_count": 16,
      "outputs": [
        {
          "output_type": "stream",
          "name": "stdout",
          "text": [
            "請輸入一個整數5\n",
            "15\n"
          ]
        }
      ]
    },
    {
      "cell_type": "code",
      "source": [
        "本金=int(input(\"請輸入本金存款金額:\"))\n",
        "years=1.02**6*本金\n",
        "print(\"6年後存款為:\"+str(years))"
      ],
      "metadata": {
        "id": "Z0iywstkK9gu",
        "colab": {
          "base_uri": "https://localhost:8080/"
        },
        "outputId": "a92cb37a-7c26-4554-f304-552260b619ea"
      },
      "execution_count": 9,
      "outputs": [
        {
          "output_type": "stream",
          "name": "stdout",
          "text": [
            "請輸入本金存款金額:10000\n",
            "6年後存款為:11261.62419264\n"
          ]
        }
      ]
    }
  ]
}