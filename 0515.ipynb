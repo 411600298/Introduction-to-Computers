{
  "nbformat": 4,
  "nbformat_minor": 0,
  "metadata": {
    "colab": {
      "provenance": [],
      "authorship_tag": "ABX9TyMaxkDzkgIuL1mXBoAOejiK",
      "include_colab_link": true
    },
    "kernelspec": {
      "name": "python3",
      "display_name": "Python 3"
    },
    "language_info": {
      "name": "python"
    }
  },
  "cells": [
    {
      "cell_type": "markdown",
      "metadata": {
        "id": "view-in-github",
        "colab_type": "text"
      },
      "source": [
        "<a href=\"https://colab.research.google.com/github/411600298/Introduction-to-Computers/blob/main/0515.ipynb\" target=\"_parent\"><img src=\"https://colab.research.google.com/assets/colab-badge.svg\" alt=\"Open In Colab\"/></a>"
      ]
    },
    {
      "cell_type": "code",
      "execution_count": 1,
      "metadata": {
        "colab": {
          "base_uri": "https://localhost:8080/"
        },
        "id": "1BteQ3-TPrIf",
        "outputId": "a21b2e35-33b1-4841-94f0-94adce93b05a"
      },
      "outputs": [
        {
          "output_type": "stream",
          "name": "stdout",
          "text": [
            "0515\n"
          ]
        }
      ],
      "source": [
        "print(\"0515\")"
      ]
    },
    {
      "cell_type": "code",
      "source": [
        "rain=str(input(\"今天會下雨?\"))\n",
        "if (rain ==\"Y\"):\n",
        "  print(\"出門記得帶傘！\")\n",
        "elif (rain==\"y\"):\n",
        "  print(\"出門記得帶傘！\")\n",
        "elif (rain==\"N\"):\n",
        "  print(\"出門記得帶傘！\")\n",
        "elif (rain==\"n\"):\n",
        "  print(\"出門記得帶傘！\")\n",
        "else:\n",
        "  print(\"請重新輸入\")"
      ],
      "metadata": {
        "colab": {
          "base_uri": "https://localhost:8080/"
        },
        "id": "BXbTe491Tc3d",
        "outputId": "bfa9c728-6821-47de-a11e-226d226af463"
      },
      "execution_count": 53,
      "outputs": [
        {
          "output_type": "stream",
          "name": "stdout",
          "text": [
            "今天會下雨?a\n",
            "請重新輸入\n"
          ]
        }
      ]
    },
    {
      "cell_type": "code",
      "source": [
        "score = int(input(\"請輸入成績:\"))\n",
        "if score >= 90:\n",
        "    print('Grade is: A')\n",
        "elif score >= 80:\n",
        "    print('Grade is: B')\n",
        "elif score >= 70:\n",
        "    print('Grade is: C')\n",
        "elif score >= 60:\n",
        "    print('Grade is: D')\n",
        "else:\n",
        "    print('Grade is: E')"
      ],
      "metadata": {
        "colab": {
          "base_uri": "https://localhost:8080/"
        },
        "id": "LzUEPAfqQwRm",
        "outputId": "6dc4a66a-35b4-4f7d-d9e1-f7aedb22bf0d"
      },
      "execution_count": 16,
      "outputs": [
        {
          "output_type": "stream",
          "name": "stdout",
          "text": [
            "請輸入成績:50\n",
            "Grade is: E\n"
          ]
        }
      ]
    },
    {
      "cell_type": "code",
      "source": [
        "tem = float(input(\"請輸入體溫:\"))\n",
        "if tem >= 37.5:\n",
        "  print(\"體溫過高!\")\n",
        "elif tem >= 37:\n",
        "  print(\"體溫略高!\")\n",
        "elif tem >= 34:\n",
        "  print(\"體溫正常!\")  \n",
        "else:\n",
        "  print(\"體溫異常，請重新量測!\")"
      ],
      "metadata": {
        "colab": {
          "base_uri": "https://localhost:8080/"
        },
        "id": "HG77BaAaQwUR",
        "outputId": "9ff77114-2de9-4599-df69-5f6b640a4783"
      },
      "execution_count": 52,
      "outputs": [
        {
          "output_type": "stream",
          "name": "stdout",
          "text": [
            "請輸入體溫:35.5\n",
            "體溫正常!\n"
          ]
        }
      ]
    },
    {
      "cell_type": "code",
      "source": [
        "i = int(input(\"請輸入今年收入淨額:\"))\n",
        "if i >= 2000000:\n",
        "  t=i*0.3\n",
        "  print(\"付稅金額:\"+str(t)+\"元\")\n",
        "elif i >= 1000000:\n",
        "  t=i*0.21\n",
        "  print(\"付稅金額:\"+str(t)+\"元\")\n",
        "elif i >= 600000:\n",
        "  t=i*0.13\n",
        "  print(\"付稅金額:\"+str(t)+\"元\")\n",
        "elif i >= 300000:\n",
        "  t=i*0.06\n",
        "  print(\"付稅金額:\"+str(t)+\"元\")\n",
        "else:\n",
        "  print(\"付稅金額:0\"+\"元\")"
      ],
      "metadata": {
        "colab": {
          "base_uri": "https://localhost:8080/"
        },
        "id": "HdrTTeOPQwW8",
        "outputId": "a4eca6b7-0357-4b7d-f57b-6a810b5c3380"
      },
      "execution_count": 32,
      "outputs": [
        {
          "output_type": "stream",
          "name": "stdout",
          "text": [
            "請輸入今年收入淨額:200000\n",
            "付稅金額:0元\n"
          ]
        }
      ]
    },
    {
      "cell_type": "code",
      "source": [
        "month=int(input(\"請輸入月份:\"))\n",
        "if month in [3,4,5] :\n",
        "  season=\"春天\"\n",
        "elif month in [6,7,8] :\n",
        "  season=\"夏天\"\n",
        "elif month in [9,10,11] :\n",
        "  season=\"秋天\"\n",
        "elif month in [12,1,2] :\n",
        "  season=\"冬天\"\n",
        "else :\n",
        "  season=\"月份不在範圍內\"\n",
        "print(f\"{month}月是{season}\")"
      ],
      "metadata": {
        "colab": {
          "base_uri": "https://localhost:8080/"
        },
        "id": "YPlw1ZQ1Qwc8",
        "outputId": "755baa5f-2e84-4959-87c8-1d755246afda"
      },
      "execution_count": 63,
      "outputs": [
        {
          "output_type": "stream",
          "name": "stdout",
          "text": [
            "請輸入月份:12\n",
            "12月是冬天\n"
          ]
        }
      ]
    }
  ]
}